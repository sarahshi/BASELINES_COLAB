{
  "cells": [
    {
      "cell_type": "code",
      "execution_count": null,
      "metadata": {
        "id": "Ui7AxkvE-3vb",
        "outputId": "ad83736a-218f-4d77-87fd-cbb63f2d3914"
      },
      "outputs": [],
      "source": [
        "\"\"\" Created on June 12, 2021 // @author: Sarah Shi and Henry Towbin \"\"\""
      ]
    },
    {
      "cell_type": "code",
      "execution_count": null,
      "metadata": {
        "colab": {
          "base_uri": "https://localhost:8080/"
        },
        "id": "8sGhUV2a-3vc",
        "outputId": "47df97b5-39d2-4e1b-81b3-21c604a06734"
      },
      "outputs": [],
      "source": [
        "import os\n",
        "import sys\n",
        "import time\n",
        "import glob\n",
        "import warnings \n",
        "import mc3\n",
        "import numpy as np\n",
        "import pandas as pd\n",
        "\n",
        "from pykrige import OrdinaryKriging\n",
        "\n",
        "import scipy.signal as signal\n",
        "import scipy.interpolate as interpolate\n",
        "import MC3_BACKEND as baselines\n",
        "\n",
        "import matplotlib\n",
        "from matplotlib import pyplot as plt\n",
        "from matplotlib import rc, cm"
      ]
    },
    {
      "cell_type": "code",
      "execution_count": null,
      "metadata": {
        "id": "nP0UL375-3vd"
      },
      "outputs": [],
      "source": [
        "# Load FTIR Baseline Dictionary of decarbonated MIs from Aleutian volcanoes. \n",
        "# The average baseline and PCA vectors, determining the components of greatest \n",
        "# variability are isolated in CSV. These baselines and PCA vectors are \n",
        "# inputted into the Monte Carlo-Markov Chain and the best fits are found. \n",
        "\n",
        "path_parent = os.path.dirname(os.getcwd())\n",
        "path_beg = os.getcwd() + '/'\n",
        "path_input = os.getcwd() + '/Inputs/'\n",
        "output_dir = [\"FIGURES\", \"PLOTFILES\", \"NPZFILES\", \"LOGFILES\", \"FINALDATA\"] \n",
        "\n",
        "for ii in range(len(output_dir)):\n",
        "    if not os.path.exists(path_beg + output_dir[ii]):\n",
        "       os.makedirs(path_beg + output_dir[ii], exist_ok=True)\n",
        "\n",
        "PATHS = [path_input+'SampleSpectra/SIMS/']\n",
        "CHEMTHICK_PATH = [path_input+'SIMSChemThick.csv']\n",
        "INPUT_PATHS = [[path_input+'Baseline_AvgPCA.csv', path_input+\"Water_Peak_1635_All.csv\", path_beg, 'SIMS_F']]\n",
        "OUTPUT_PATH = ['SIMSSTD']"
      ]
    },
    {
      "cell_type": "code",
      "execution_count": null,
      "metadata": {
        "colab": {
          "base_uri": "https://localhost:8080/"
        },
        "id": "ZUnMUkmn-3ve",
        "outputId": "d7831471-d6da-418a-9583-05be617667cf"
      },
      "outputs": [],
      "source": [
        "simsno = 0\n",
        "\n",
        "PATH = PATHS[simsno]\n",
        "FILES = glob.glob(PATH + \"*\")\n",
        "FILES.sort()\n",
        "\n",
        "MICOMP, THICKNESS = baselines.Load_ChemistryThickness(CHEMTHICK_PATH[simsno])\n",
        "\n",
        "DFS_FILES, DFS_DICT = baselines.Load_SampleCSV(FILES, H2O_wn_high = 5500, H2O_wn_low = 1000)\n",
        "DF_OUTPUT, FAILURES = baselines.Run_All_Spectra(DFS_DICT, INPUT_PATHS[simsno])\n",
        "DF_OUTPUT.to_csv(path_beg + output_dir[-1] + '/' + OUTPUT_PATH[simsno] + '_DF_F.csv')\n",
        "\n",
        "DF_OUTPUT = pd.read_csv(path_beg + output_dir[-1] + '/' + OUTPUT_PATH[simsno] + '_DF_F.csv', index_col = 0)\n",
        "\n",
        "N = 500000\n",
        "DENSITY_EPSILON, MEGA_SPREADSHEET = baselines.Concentration_Output(DF_OUTPUT, N, THICKNESS, MICOMP)\n",
        "MEGA_SPREADSHEET.to_csv(path_beg + output_dir[-1] + '/' + OUTPUT_PATH[simsno] + '_H2OCO2_F.csv')\n",
        "DENSITY_EPSILON.to_csv(path_beg + output_dir[-1] + '/' + OUTPUT_PATH[simsno] + '_DensityEpsilon_F.csv')"
      ]
    }
  ],
  "metadata": {
    "colab": {
      "collapsed_sections": [],
      "include_colab_link": true,
      "name": "Copy of MC3_RUNFILE.ipynb",
      "provenance": []
    },
    "gpuClass": "standard",
    "kernelspec": {
      "display_name": "Python 3",
      "name": "python3"
    },
    "language_info": {
      "name": "python"
    },
    "orig_nbformat": 4
  },
  "nbformat": 4,
  "nbformat_minor": 0
}
