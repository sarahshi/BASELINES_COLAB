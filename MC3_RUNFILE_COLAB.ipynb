{
  "cells": [
    {
      "cell_type": "markdown",
      "metadata": {
        "id": "view-in-github",
        "colab_type": "text"
      },
      "source": [
        "<a href=\"https://colab.research.google.com/github/sarahshi/BASELINES_COLAB/blob/main/MC3_RUNFILE_COLAB.ipynb\" target=\"_parent\"><img src=\"https://colab.research.google.com/assets/colab-badge.svg\" alt=\"Open In Colab\"/></a>"
      ]
    },
    {
      "cell_type": "code",
      "execution_count": null,
      "source": [
        "\"\"\" Created on June 12, 2021 // @author: Sarah Shi and Henry Towbin \"\"\""
      ],
      "outputs": [
        {
          "output_type": "execute_result",
          "data": {
            "text/plain": [
              "' Created on June 12, 2021 // @author: Sarah Shi and Henry Towbin '"
            ]
          },
          "metadata": {},
          "execution_count": 1
        }
      ],
      "metadata": {
        "id": "Ui7AxkvE-3vb",
        "outputId": "ad83736a-218f-4d77-87fd-cbb63f2d3914"
      }
    },
    {
      "cell_type": "code",
      "execution_count": 12,
      "source": [
        "import os\n",
        "import sys\n",
        "import time\n",
        "import glob\n",
        "import warnings \n",
        "!pip install mc3\n",
        "import mc3\n",
        "import numpy as np\n",
        "import pandas as pd\n",
        "\n",
        "!pip install pykrige\n",
        "from pykrige import OrdinaryKriging\n",
        "\n",
        "import scipy.signal as signal\n",
        "import scipy.interpolate as interpolate\n",
        "!git clone https://github.com/sarahshi/BASELINES_COLAB.git\n",
        "# sys.path.append('/content/BASELINES_COLAB/')\n",
        "%load BASELINES_COLAB/MC3_BACKEND.py\n",
        "import MC3_BACKEND as baselines\n",
        "\n",
        "import matplotlib\n",
        "from matplotlib import pyplot as plt\n",
        "from matplotlib import rc, cm"
      ],
      "outputs": [
        {
          "output_type": "stream",
          "name": "stdout",
          "text": [
            "Looking in indexes: https://pypi.org/simple, https://us-python.pkg.dev/colab-wheels/public/simple/\n",
            "Requirement already satisfied: mc3 in /usr/local/lib/python3.7/dist-packages (3.0.13)\n",
            "Requirement already satisfied: matplotlib>=2.0 in /usr/local/lib/python3.7/dist-packages (from mc3) (3.2.2)\n",
            "Requirement already satisfied: scipy>=0.17.1 in /usr/local/lib/python3.7/dist-packages (from mc3) (1.4.1)\n",
            "Requirement already satisfied: numpy>=1.15.0 in /usr/local/lib/python3.7/dist-packages (from mc3) (1.21.6)\n",
            "Requirement already satisfied: cycler>=0.10 in /usr/local/lib/python3.7/dist-packages (from matplotlib>=2.0->mc3) (0.11.0)\n",
            "Requirement already satisfied: pyparsing!=2.0.4,!=2.1.2,!=2.1.6,>=2.0.1 in /usr/local/lib/python3.7/dist-packages (from matplotlib>=2.0->mc3) (3.0.9)\n",
            "Requirement already satisfied: kiwisolver>=1.0.1 in /usr/local/lib/python3.7/dist-packages (from matplotlib>=2.0->mc3) (1.4.2)\n",
            "Requirement already satisfied: python-dateutil>=2.1 in /usr/local/lib/python3.7/dist-packages (from matplotlib>=2.0->mc3) (2.8.2)\n",
            "Requirement already satisfied: typing-extensions in /usr/local/lib/python3.7/dist-packages (from kiwisolver>=1.0.1->matplotlib>=2.0->mc3) (4.2.0)\n",
            "Requirement already satisfied: six>=1.5 in /usr/local/lib/python3.7/dist-packages (from python-dateutil>=2.1->matplotlib>=2.0->mc3) (1.15.0)\n",
            "Looking in indexes: https://pypi.org/simple, https://us-python.pkg.dev/colab-wheels/public/simple/\n",
            "Collecting pykrige\n",
            "  Downloading PyKrige-1.6.1-cp37-cp37m-manylinux_2_5_x86_64.manylinux1_x86_64.manylinux_2_12_x86_64.manylinux2010_x86_64.whl (734 kB)\n",
            "\u001b[K     |████████████████████████████████| 734 kB 4.4 MB/s \n",
            "\u001b[?25hRequirement already satisfied: numpy<2,>=1.14.5 in /usr/local/lib/python3.7/dist-packages (from pykrige) (1.21.6)\n",
            "Requirement already satisfied: scipy<2,>=1.1.0 in /usr/local/lib/python3.7/dist-packages (from pykrige) (1.4.1)\n",
            "Installing collected packages: pykrige\n",
            "Successfully installed pykrige-1.6.1\n",
            "fatal: destination path 'BASELINES_COLAB' already exists and is not an empty directory.\n"
          ]
        }
      ],
      "metadata": {
        "colab": {
          "base_uri": "https://localhost:8080/"
        },
        "id": "8sGhUV2a-3vc",
        "outputId": "47df97b5-39d2-4e1b-81b3-21c604a06734"
      }
    },
    {
      "cell_type": "code",
      "execution_count": 21,
      "source": [
        "# Load FTIR Baseline Dictionary of decarbonated MIs from Aleutian volcanoes. \n",
        "# The average baseline and PCA vectors, determining the components of greatest \n",
        "# variability are isolated in CSV. These baselines and PCA vectors are \n",
        "# inputted into the Monte Carlo-Markov Chain and the best fits are found. \n",
        "\n",
        "path_parent = os.path.dirname(os.getcwd())\n",
        "path_beg = path_parent + '/content/BASELINES_COLAB/'\n",
        "path_input = path_parent + '/content/BASELINES_COLAB/Inputs/'\n",
        "output_dir = [\"FIGURES\", \"PLOTFILES\", \"NPZFILES\", \"LOGFILES\", \"FINALDATA\"] \n",
        "\n",
        "for ii in range(len(output_dir)):\n",
        "    if not os.path.exists(path_beg + output_dir[ii]):\n",
        "       os.makedirs(path_beg + output_dir[ii], exist_ok=True)\n",
        "\n",
        "PATHS = [path_input+'SampleSpectra/Fuego/', path_input+'SampleSpectra/Standards/', path_input+'SampleSpectra/Fuego1974RH/', path_input+'SampleSpectra/SIMS/']\n",
        "CHEMTHICK_PATH = [path_input+'FuegoChemThick.csv', path_input+'StandardChemThick.csv', path_input+'DanRHChemThick.csv', path_input+'SIMSChemThick.csv']\n",
        "INPUT_PATHS = [[path_input+'Baseline_AvgPCA.csv', path_input+\"Water_Peak_1635_All.csv\", path_beg, 'FUEGO_F'],\n",
        "                [path_input+'Baseline_AvgPCA.csv', path_input+\"Water_Peak_1635_All.csv\", path_beg, 'STD_F'], \n",
        "                [path_input+'Baseline_AvgPCA.csv', path_input+\"Water_Peak_1635_All.csv\", path_beg, 'FRH_F'],\n",
        "                [path_input+'Baseline_AvgPCA.csv', path_input+\"Water_Peak_1635_All.csv\", path_beg, 'SIMS_F']]\n",
        "OUTPUT_PATH = ['F18', 'STD', 'FRH', 'SIMSSTD']\n"
      ],
      "outputs": [],
      "metadata": {
        "id": "nP0UL375-3vd"
      }
    },
    {
      "cell_type": "code",
      "execution_count": null,
      "source": [
        "simsno = 3 \n",
        "\n",
        "PATH = PATHS[simsno]\n",
        "FILES = glob.glob(PATH + \"*\")\n",
        "FILES.sort()\n",
        "\n",
        "MICOMP, THICKNESS = baselines.Load_ChemistryThickness(CHEMTHICK_PATH[simsno])\n",
        "\n",
        "DFS_FILES, DFS_DICT = baselines.Load_SampleCSV(FILES, H2O_wn_high = 5500, H2O_wn_low = 1000)\n",
        "DF_OUTPUT, FAILURES = baselines.Run_All_Spectra(DFS_DICT, INPUT_PATHS[simsno])\n",
        "DF_OUTPUT.to_csv(path_beg + output_dir[-1] + '/' + OUTPUT_PATH[simsno] + '_DF_F.csv')\n",
        "\n",
        "DF_OUTPUT = pd.read_csv(path_beg + output_dir[-1] + '/' + OUTPUT_PATH[simsno] + '_DF_F.csv', index_col = 0)\n",
        "\n",
        "N = 500000\n",
        "DENSITY_EPSILON, MEGA_SPREADSHEET = baselines.Concentration_Output(DF_OUTPUT, N, THICKNESS, MICOMP)\n",
        "MEGA_SPREADSHEET.to_csv(output_dir[-1] + '/' + OUTPUT_PATH[simsno] + '_H2OCO2_F.csv')\n",
        "DENSITY_EPSILON.to_csv(output_dir[-1] + '/' + OUTPUT_PATH[simsno] + '_DensityEpsilon_F.csv')"
      ],
      "outputs": [
        {
          "output_type": "stream",
          "name": "stdout",
          "text": [
            "\n",
            "::::::::::::::::::::::::::::::::::::::::::::::::::::::::::::::::::::::\n",
            "  Multi-core Markov-chain Monte Carlo (mc3).\n",
            "  Version 3.0.13.\n",
            "  Copyright (c) 2015-2022 Patricio Cubillos and collaborators.\n",
            "  mc3 is open-source software under the MIT license (see LICENSE).\n",
            "::::::::::::::::::::::::::::::::::::::::::::::::::::::::::::::::::::::\n",
            "\n",
            "\n",
            "::::::::::::::::::::::::::::::::::::::::::::::::::::::::::::::::::::::\n",
            "  Warning:\n",
            "    The number of requested CPUs (3) is >= than the number of\n",
            "available CPUs (2).  Enforced ncpu to 1.\n",
            "::::::::::::::::::::::::::::::::::::::::::::::::::::::::::::::::::::::\n",
            "\n",
            "Least-squares best-fitting parameters:\n",
            "  [ 2.02473200e+00  1.87020396e+00  2.86141953e-01 -2.54511904e-02\n",
            " -3.61383213e-01  1.43166755e+03  3.52028424e+01  3.49692354e-01\n",
            "  1.52368725e+03  3.11145162e+01  3.71188418e-01  3.53164255e-01\n",
            " -2.03646633e-01  4.14774744e-01  3.03183059e-05  1.12919835e+00]\n",
            "\n",
            "Yippee Ki Yay Monte Carlo!\n",
            "Start MCMC chains  (Wed Jun 15 11:55:25 2022)\n"
          ]
        }
      ],
      "metadata": {
        "id": "ZUnMUkmn-3ve",
        "colab": {
          "base_uri": "https://localhost:8080/"
        },
        "outputId": "d7831471-d6da-418a-9583-05be617667cf"
      }
    }
  ],
  "nbformat": 4,
  "nbformat_minor": 0,
  "metadata": {
    "language_info": {
      "name": "python"
    },
    "orig_nbformat": 4,
    "colab": {
      "name": "Copy of MC3_RUNFILE.ipynb",
      "provenance": [],
      "collapsed_sections": [],
      "include_colab_link": true
    },
    "kernelspec": {
      "name": "python3",
      "display_name": "Python 3"
    },
    "gpuClass": "standard"
  }
}